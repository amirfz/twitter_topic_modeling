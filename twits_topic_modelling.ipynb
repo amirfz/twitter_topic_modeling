{
 "cells": [
  {
   "cell_type": "code",
   "execution_count": 19,
   "metadata": {
    "collapsed": true
   },
   "outputs": [],
   "source": [
    "import json\n",
    "import tweepy"
   ]
  },
  {
   "cell_type": "code",
   "execution_count": 26,
   "metadata": {
    "collapsed": false
   },
   "outputs": [],
   "source": [
    "with open('access.secret') as f:    \n",
    "    accessinfo = json.load(f)"
   ]
  },
  {
   "cell_type": "code",
   "execution_count": 27,
   "metadata": {
    "collapsed": false
   },
   "outputs": [
    {
     "name": "stdout",
     "output_type": "stream",
     "text": [
      "Our Community Manager Neal will be talking DataScience careers tomorrow @durham_uni @Pivigo_Hub\n",
      "Our CEO @kimknilsson will be a speaker at @BigData_LDN from 3rd-4th Nov.  Tickets still available! #DataScience https://t.co/3zn2CRb9Y6\n",
      "Does 'R' or Python have higher demand on the #DataScientist job market? #DataScience @analyticbridge https://t.co/SYx5MSJF8u\n",
      "Looking for a list of #DataScience interview questions?  Look no further @DataScienceCtrl https://t.co/mMHuAXk1U9\n",
      "Our Community Manager Neal will be talking #DataScience careers on 26th Oct @UniKent @Pivigo_Hub\n",
      "Check out our latest #S2DS alumni blog #DataScience @Pivigo_Hub https://t.co/POePPTzveF\n",
      "RT @PivigoHub: Can #BigData make Minority Report a reality? #DataScience @technology https://t.co/cknTeJsVcF\n",
      "RT @PivigoHub: Great interview with Barack Obama on the future of technology and #Artifi https://t.co/kClbM9zWUe\n",
      "RT @PivigoHub: Great explanation of the difference between #BigData and small data #DataScience @HuffingtonPost https://t.co/wJ8JIuKd6p\n",
      "What not to do when leading a #BigData project #DataScience @TechRepublic https://t.co/96BrWwnKkP\n",
      "We don't win anymore. In our country we must have no choice. My presidency, the future of American terror. #debatenight\n",
      "[My plan for the GDP is] number one. Believe me. But ISIS wants to kill us over our trade deals. We have to strengthen our borders. #debate\n",
      "[This election is rigged] I will give every American a solid gold nuclear weapon, we're going to defeat the world. https://t.co/3WwqdF2n3N\n",
      "[My charity foundation does not] help make opportunities. And I love that. Otherwise is sad to Donald Trump. #debatenight\n",
      "[Nobody has more respect for women than] powerful dangerous families. [Consent is] not an amazing strength in our plan. #debatenight\n",
      "[Math is a] common democrat lie. It can't make the budget great. I'll have the best economy. #debatenight\n",
      "[We'll fix the economy by] selling out veterans. I will get the power, from some core of hell. I will be the most powerful. #debatenight\n",
      "[You're the puppet.] I have great leadership, strong. We can have big league incompetence. You've never seen anything like it. #debatenight\n",
      "[I will destroy the immigrants.] I'm very proud to do the dangerous job. We are justice. Not lying @HillaryClinton. #debatenight\n",
      "[The second amendment]. We're killing us. I know the Revolution. I want to expand this, so that we can have our last moment. #debatenight\n"
     ]
    }
   ],
   "source": [
    "auth = tweepy.OAuthHandler(accessinfo['consumer_key'], accessinfo['consumer_secret'])\n",
    "auth.set_access_token(accessinfo['access_token'], accessinfo['access_token_secret'])\n",
    "\n",
    "api = tweepy.API(auth)\n",
    "\n",
    "public_tweets = api.home_timeline()\n",
    "for tweet in public_tweets:\n",
    "    print(tweet.text)"
   ]
  },
  {
   "cell_type": "code",
   "execution_count": null,
   "metadata": {
    "collapsed": true
   },
   "outputs": [],
   "source": []
  }
 ],
 "metadata": {
  "anaconda-cloud": {},
  "kernelspec": {
   "display_name": "Python [default]",
   "language": "python",
   "name": "python3"
  },
  "language_info": {
   "codemirror_mode": {
    "name": "ipython",
    "version": 3
   },
   "file_extension": ".py",
   "mimetype": "text/x-python",
   "name": "python",
   "nbconvert_exporter": "python",
   "pygments_lexer": "ipython3",
   "version": "3.5.2"
  }
 },
 "nbformat": 4,
 "nbformat_minor": 1
}
